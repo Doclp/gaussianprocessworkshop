{
 "cells": [
  {
   "cell_type": "markdown",
   "metadata": {},
   "source": [
    "## Session #3: Bayesian Optimization with Gaussian Processes\n",
    "\n",
    "Now we will use a Gaussian Process model to do Bayesian Optimization\n",
    "\n",
    "Here the goal is to find the maximum of an unknown function. The only information we have about the function are the noisy observations we make by sampling from it. Because it is costly to sample, our goal is to get a good estimate of the maximum with as few samples as possible. \n",
    "\n",
    "To this end we combine a GP regression model with the BO framework. "
   ]
  },
  {
   "cell_type": "markdown",
   "metadata": {},
   "source": [
    "## Your task: \n",
    "\n",
    "Your task is to \n",
    "\n",
    "a) define a Gaussian process to model the objective function\n",
    "\n",
    "b) iteratively draw informative samples from the objective function and update the GP model\n",
    "\n",
    "c) find a good exploration - exploitation trade off in the acquisition function"
   ]
  },
  {
   "cell_type": "code",
   "execution_count": 1,
   "metadata": {
    "collapsed": true
   },
   "outputs": [],
   "source": [
    "import numpy as np\n",
    "import matplotlib.pyplot as plt \n",
    "%matplotlib inline\n",
    "plt.style.use('seaborn-deep')"
   ]
  },
  {
   "cell_type": "code",
   "execution_count": 3,
   "metadata": {
    "collapsed": false
   },
   "outputs": [],
   "source": [
    "def gp_regression(xtrain, ytrain, xtest, sigma_noise=.1, l=.1): \n",
    "\n",
    "    # calculate the covariance matrix \n",
    "    k11 = calculate_covariance_matrix(xtrain, xtrain, l=l) + sigma_noise ** 2 * np.eye(xtrain.shape[0])\n",
    "    k12 = calculate_covariance_matrix(xtrain, xtest, l=l)\n",
    "    k22 = calculate_covariance_matrix(xtest, xtest, l=l)\n",
    "    k21 = calculate_covariance_matrix(xtest, xtrain, l=l)\n",
    "    \n",
    "    # Use the formulas above to define the mean function and the covariance matrix of the predictive distribution\n",
    "    # the mean function\n",
    "    invers_training_K = np.linalg.inv(k11)\n",
    "    m = k21.dot(invers_training_K).dot(ytrain)\n",
    "    # the covariance matrix. \n",
    "    sigma = k22 - k21.dot(invers_training_K).dot(k12)\n",
    "    \n",
    "    return m.squeeze(), sigma.squeeze()\n",
    "\n",
    "def plot_gp_regression_results(m, sigma, xtrain, ytrain, xtest, ytest): \n",
    "\n",
    "    std = np.sqrt(np.diag(sigma))\n",
    "    \n",
    "    upper_std = np.squeeze(m) + std\n",
    "    lower_std = np.squeeze(m) - std\n",
    "    \n",
    "    plt.figure(figsize=(15, 5))\n",
    "    plt.fill_between(xtest, upper_std, lower_std, alpha=0.4)\n",
    "    plt.plot(xtest, m, 'r', label='Prediction mean')\n",
    "    plt.plot(xtrain, ytrain, 'go', label='data')\n",
    "    plt.plot(xtest, ytest)\n",
    "    plt.title('Mean and variance of the predictive distr. with training data points')\n",
    "    plt.legend(loc=0);\n",
    "    \n",
    "def acquistion_fun(m, std, kappa=1.): \n",
    "    return m + kappa * std\n",
    "\n",
    "def add_data_point(x_new, y_new, xtrain, ytrain): \n",
    "    pass"
   ]
  },
  {
   "cell_type": "code",
   "execution_count": 7,
   "metadata": {
    "collapsed": false
   },
   "outputs": [
    {
     "ename": "TypeError",
     "evalue": "gp_regression() missing 3 required positional arguments: 'xtrain', 'ytrain', and 'xtest'",
     "output_type": "error",
     "traceback": [
      "\u001b[0;31m---------------------------------------------------------------------------\u001b[0m",
      "\u001b[0;31mTypeError\u001b[0m                                 Traceback (most recent call last)",
      "\u001b[0;32m<ipython-input-7-9654a0744db5>\u001b[0m in \u001b[0;36m<module>\u001b[0;34m()\u001b[0m\n\u001b[1;32m      3\u001b[0m \u001b[0;34m\u001b[0m\u001b[0m\n\u001b[1;32m      4\u001b[0m     \u001b[0;31m# calculate the predictive distribution with current evidence:\u001b[0m\u001b[0;34m\u001b[0m\u001b[0;34m\u001b[0m\u001b[0m\n\u001b[0;32m----> 5\u001b[0;31m     \u001b[0mm\u001b[0m\u001b[0;34m,\u001b[0m \u001b[0mvariance\u001b[0m \u001b[0;34m=\u001b[0m \u001b[0mgp_regression\u001b[0m\u001b[0;34m(\u001b[0m\u001b[0;34m)\u001b[0m\u001b[0;34m\u001b[0m\u001b[0m\n\u001b[0m\u001b[1;32m      6\u001b[0m \u001b[0;34m\u001b[0m\u001b[0m\n\u001b[1;32m      7\u001b[0m     \u001b[0;31m# find the next most effictive sample by maximizing the acquisition function:\u001b[0m\u001b[0;34m\u001b[0m\u001b[0;34m\u001b[0m\u001b[0m\n",
      "\u001b[0;31mTypeError\u001b[0m: gp_regression() missing 3 required positional arguments: 'xtrain', 'ytrain', and 'xtest'"
     ]
    }
   ],
   "source": [
    "\n",
    "for t in range(10):\n",
    "    \n",
    "    # calculate the predictive distribution with current evidence: \n",
    "    m, variance = gp_regression()\n",
    "    \n",
    "    # find the next most effictive sample by maximizing the acquisition function: \n",
    "    x_new = np.argmax(acquistion_fun(m, std, kappa=kappa))\n",
    "    \n",
    "    # sample the objective function a this position \n",
    "    y_new = objective_fun(x_new)\n",
    "    \n",
    "    # add the new data point to the trianing data set for the GP\n",
    "    xtrain, ytrain = add_data_point(x_new, y_new, xtrain, ytrain)\n",
    "    \n",
    "        "
   ]
  },
  {
   "cell_type": "code",
   "execution_count": null,
   "metadata": {
    "collapsed": true
   },
   "outputs": [],
   "source": []
  }
 ],
 "metadata": {
  "anaconda-cloud": {},
  "kernelspec": {
   "display_name": "Python [conda env:bccn_programming]",
   "language": "python",
   "name": "conda-env-bccn_programming-py"
  },
  "language_info": {
   "codemirror_mode": {
    "name": "ipython",
    "version": 3
   },
   "file_extension": ".py",
   "mimetype": "text/x-python",
   "name": "python",
   "nbconvert_exporter": "python",
   "pygments_lexer": "ipython3",
   "version": "3.5.2"
  }
 },
 "nbformat": 4,
 "nbformat_minor": 2
}
